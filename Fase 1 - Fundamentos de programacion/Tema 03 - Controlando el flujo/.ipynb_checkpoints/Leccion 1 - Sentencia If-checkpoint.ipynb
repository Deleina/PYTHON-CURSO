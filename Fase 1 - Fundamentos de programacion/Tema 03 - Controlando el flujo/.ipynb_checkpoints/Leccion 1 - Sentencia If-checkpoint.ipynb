{
 "cells": [
  {
   "cell_type": "code",
   "execution_count": 6,
   "metadata": {},
   "outputs": [
    {
     "name": "stdout",
     "output_type": "stream",
     "text": [
      "se cumple la condicion\n",
      "se muestra este print\n"
     ]
    }
   ],
   "source": [
    "if not False:\n",
    "    print('se cumple la condicion')\n",
    "    print('se muestra este print')"
   ]
  },
  {
   "cell_type": "code",
   "execution_count": 7,
   "metadata": {},
   "outputs": [
    {
     "name": "stdout",
     "output_type": "stream",
     "text": [
      "a vale 5\n"
     ]
    }
   ],
   "source": [
    "a = 5 \n",
    "if a == 2:\n",
    "    print('a vale 2')\n",
    "if a == 5:\n",
    "    print('a vale 5')"
   ]
  },
  {
   "cell_type": "code",
   "execution_count": 8,
   "metadata": {},
   "outputs": [
    {
     "name": "stdout",
     "output_type": "stream",
     "text": [
      "a vale 5\n",
      "b vale 10\n"
     ]
    }
   ],
   "source": [
    "a =5\n",
    "b=10\n",
    "if a == 5:\n",
    "    print('a vale', a)\n",
    "    if b== 10:\n",
    "        print('b vale', b)"
   ]
  },
  {
   "cell_type": "code",
   "execution_count": 10,
   "metadata": {},
   "outputs": [
    {
     "name": "stdout",
     "output_type": "stream",
     "text": [
      "a vale 5 y b vale 10\n"
     ]
    }
   ],
   "source": [
    "if a==5 and b==10:\n",
    "    print('a vale 5 y b vale 10')"
   ]
  },
  {
   "cell_type": "code",
   "execution_count": 12,
   "metadata": {},
   "outputs": [
    {
     "name": "stdout",
     "output_type": "stream",
     "text": [
      "11 no es numero par\n"
     ]
    }
   ],
   "source": [
    "n = 11\n",
    "if n %2==0:\n",
    "    print(n,'es un numero par')\n",
    "else:\n",
    "    print(n,'no es numero par')"
   ]
  },
  {
   "cell_type": "code",
   "execution_count": 14,
   "metadata": {},
   "outputs": [
    {
     "name": "stdout",
     "output_type": "stream",
     "text": [
      "saliendo del sistema\n"
     ]
    }
   ],
   "source": [
    "comando= 'SALIR'\n",
    "if comando == 'ENTRAR':\n",
    "    print('bienevenido al sistema')\n",
    "elif comando == 'saludar':\n",
    "    print('hola, espero que la pases bien')\n",
    "elif comando == 'SALIR':\n",
    "    print('saliendo del sistema')\n",
    "else:\n",
    "    print('este comando no se reconoce')\n",
    "\n"
   ]
  },
  {
   "cell_type": "code",
   "execution_count": 17,
   "metadata": {},
   "outputs": [
    {
     "name": "stdout",
     "output_type": "stream",
     "text": [
      "introduce una nota:6\n",
      "bien\n"
     ]
    }
   ],
   "source": [
    "nota = float(input('introduce una nota:'))\n",
    "if nota >=9:\n",
    "    print('sebrasaliente')\n",
    "elif nota>=7:\n",
    "    print('notable')\n",
    "elif nota >=6:\n",
    "    print('bien')\n",
    "elif nota >=5:\n",
    "    print('suficiente')\n",
    "else:\n",
    "    print('insuficiente')"
   ]
  },
  {
   "cell_type": "code",
   "execution_count": null,
   "metadata": {},
   "outputs": [],
   "source": []
  }
 ],
 "metadata": {
  "kernelspec": {
   "display_name": "Python 3 (ipykernel)",
   "language": "python",
   "name": "python3"
  },
  "language_info": {
   "codemirror_mode": {
    "name": "ipython",
    "version": 3
   },
   "file_extension": ".py",
   "mimetype": "text/x-python",
   "name": "python",
   "nbconvert_exporter": "python",
   "pygments_lexer": "ipython3",
   "version": "3.9.5"
  }
 },
 "nbformat": 4,
 "nbformat_minor": 1
}
