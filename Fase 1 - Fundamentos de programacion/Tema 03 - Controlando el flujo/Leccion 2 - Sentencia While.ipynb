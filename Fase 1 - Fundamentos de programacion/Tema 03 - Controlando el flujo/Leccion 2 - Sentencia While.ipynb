{
 "cells": [
  {
   "cell_type": "code",
   "execution_count": 1,
   "metadata": {},
   "outputs": [
    {
     "name": "stdout",
     "output_type": "stream",
     "text": [
      "c vale 1\n",
      "c vale 2\n",
      "c vale 3\n",
      "c vale 4\n",
      "c vale 5\n",
      "c vale 6\n"
     ]
    }
   ],
   "source": [
    "#Con el bucle while podemos ejecutar un conjunto de declaraciones siempre que una condición sea verdadera.\n",
    "#Python tiene dos comandos de bucle primitivos:\n",
    "#mientras (while) que los bucles\n",
    "#para (for) bucles\n",
    "c=0\n",
    "while c<=5:\n",
    "    c+=1\n",
    "    print('c vale', c)\n",
    "    \n",
    "\n"
   ]
  },
  {
   "cell_type": "code",
   "execution_count": 2,
   "metadata": {},
   "outputs": [
    {
     "name": "stdout",
     "output_type": "stream",
     "text": [
      "c vale 1\n",
      "c vale 2\n",
      "c vale 3\n",
      "c vale 4\n",
      "c vale 5\n",
      "c vale 6\n",
      "se ha completado toda la iteracion y c vale 6\n"
     ]
    }
   ],
   "source": [
    "c=0\n",
    "while c<=5:\n",
    "    c+=1\n",
    "    print('c vale', c)\n",
    "else:\n",
    "    print('se ha completado toda la iteracion y c vale', c)"
   ]
  },
  {
   "cell_type": "code",
   "execution_count": 4,
   "metadata": {},
   "outputs": [
    {
     "name": "stdout",
     "output_type": "stream",
     "text": [
      "c vale 1\n",
      "c vale 2\n",
      "c vale 3\n",
      "rompemos el bucle cuando c vale 4\n"
     ]
    }
   ],
   "source": [
    "#Con la instrucción break podemos detener el bucle incluso si la condición while es verdadera:\n",
    "#Con la declaración else podemos ejecutar un bloque de código \n",
    "#una vez cuando la condición ya no sea verdadera:\n",
    "c=0\n",
    "while c<=5:\n",
    "    c+=1\n",
    "    if (c==4):\n",
    "        print('rompemos el bucle cuando c vale', c)\n",
    "        break\n",
    "    print('c vale', c)\n",
    "else:\n",
    "    print('se ha completado toda la iteracion y c vale', c)"
   ]
  },
  {
   "cell_type": "markdown",
   "metadata": {},
   "source": [
    "c=0\n",
    "while c<=5:\n",
    "    c+=1\n",
    "    if (c==3 or c==4):\n",
    "        #print('continuamos con la siguienete iteracion', c)\n",
    "        continue\n",
    "    print('c vale', c)\n",
    "else:\n",
    "    print('se ha completado toda la iteracion y c vale', c)"
   ]
  },
  {
   "cell_type": "code",
   "execution_count": 1,
   "metadata": {},
   "outputs": [
    {
     "name": "stdout",
     "output_type": "stream",
     "text": [
      "bienvenido al menu\n",
      "¿Que quieres hacer ? Escribe una opcion\n",
      "    1) Saludar\n",
      "    2) Sumar dos numero\n",
      "    3) Salir\n",
      "3\n",
      "Hasta luego!\n"
     ]
    }
   ],
   "source": [
    "print('bienvenido al menu')\n",
    "while(True):\n",
    "    print('''¿Que quieres hacer ? Escribe una opcion\n",
    "    1) Saludar\n",
    "    2) Sumar dos numero\n",
    "    3) Salir''')\n",
    "    opcion = input()\n",
    "    if opcion =='1':\n",
    "        print('Hola espero que te lo estes pasando bien')\n",
    "    elif opcion =='2':\n",
    "        n1= float(input('introduce el primer numero: '))\n",
    "        n2= float(input('introduce elsegundo numero: '))\n",
    "        print('el resultado de la sumas es', n1+n2)\n",
    "    elif opcion=='3':\n",
    "        print('Hasta luego!')\n",
    "        break\n",
    "    else:\n",
    "        print('comando desconocido, vuelve a intentarlo')\n",
    "        "
   ]
  },
  {
   "cell_type": "code",
   "execution_count": null,
   "metadata": {},
   "outputs": [],
   "source": [
    "\n",
    "\n",
    "\n",
    "\n"
   ]
  },
  {
   "cell_type": "code",
   "execution_count": null,
   "metadata": {},
   "outputs": [],
   "source": []
  }
 ],
 "metadata": {
  "kernelspec": {
   "display_name": "Python 3 (ipykernel)",
   "language": "python",
   "name": "python3"
  },
  "language_info": {
   "codemirror_mode": {
    "name": "ipython",
    "version": 3
   },
   "file_extension": ".py",
   "mimetype": "text/x-python",
   "name": "python",
   "nbconvert_exporter": "python",
   "pygments_lexer": "ipython3",
   "version": "3.9.5"
  }
 },
 "nbformat": 4,
 "nbformat_minor": 1
}
