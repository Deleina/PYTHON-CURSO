{
 "cells": [
  {
   "cell_type": "code",
   "execution_count": 4,
   "metadata": {},
   "outputs": [
    {
     "name": "stdout",
     "output_type": "stream",
     "text": [
      "soy de clase B\n"
     ]
    }
   ],
   "source": [
    "#las clases se heredan por prioridad\n",
    "#con la herencia multiple se puede gestionar metodos y atributos heredados\n",
    "# de varias clases a la vez\n",
    "class A:\n",
    "    def __init__(self):\n",
    "        print('soy de clase A')\n",
    "    def a(self):\n",
    "        print('este metodo lo heredo de A')\n",
    "\n",
    "class B:\n",
    "    def __init__(self):\n",
    "        print('soy de clase B')\n",
    "    def b(self):\n",
    "        print('este metodo lo heredo de B')\n",
    "        \n",
    "class C(B,A):  \n",
    "    def c(self):\n",
    "        print('este metodo lo heredo de C')\n",
    "              \n",
    "\n",
    "c=C()"
   ]
  },
  {
   "cell_type": "code",
   "execution_count": 5,
   "metadata": {},
   "outputs": [
    {
     "name": "stdout",
     "output_type": "stream",
     "text": [
      "este metodo lo heredo de A\n"
     ]
    }
   ],
   "source": [
    "c.a()"
   ]
  },
  {
   "cell_type": "code",
   "execution_count": 6,
   "metadata": {},
   "outputs": [
    {
     "name": "stdout",
     "output_type": "stream",
     "text": [
      "este metodo lo heredo de B\n"
     ]
    }
   ],
   "source": [
    "c.b()"
   ]
  },
  {
   "cell_type": "code",
   "execution_count": 7,
   "metadata": {},
   "outputs": [
    {
     "name": "stdout",
     "output_type": "stream",
     "text": [
      "este metodo lo heredo de C\n"
     ]
    }
   ],
   "source": [
    "c.c()"
   ]
  },
  {
   "cell_type": "code",
   "execution_count": null,
   "metadata": {},
   "outputs": [],
   "source": [
    "#para copiar la instancia de un objeto debemos utlizar \n",
    "#el modulo copy con su funcion copy\n",
    "\n",
    "\n",
    "\n",
    "\n",
    "\n"
   ]
  }
 ],
 "metadata": {
  "kernelspec": {
   "display_name": "Python 3 (ipykernel)",
   "language": "python",
   "name": "python3"
  },
  "language_info": {
   "codemirror_mode": {
    "name": "ipython",
    "version": 3
   },
   "file_extension": ".py",
   "mimetype": "text/x-python",
   "name": "python",
   "nbconvert_exporter": "python",
   "pygments_lexer": "ipython3",
   "version": "3.9.5"
  }
 },
 "nbformat": 4,
 "nbformat_minor": 1
}
