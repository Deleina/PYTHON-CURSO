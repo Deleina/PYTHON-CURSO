{
 "cells": [
  {
   "cell_type": "code",
   "execution_count": 8,
   "metadata": {},
   "outputs": [],
   "source": [
    "#\n",
    "#PRODUCTOS:\n",
    "#adornos\n",
    "#alimentos\n",
    "#libros\n",
    "\n",
    "#REFERENCIA:\n",
    "#nombre \n",
    "#precio\n",
    "#descripcion\n",
    "\n",
    "#PRODUCTOR:\n",
    "#distribuidor\n",
    "\n",
    "class Producto:\n",
    "    def __init__(self,referencia,tipo,nombre,pvp,descripcion,productor=None,distribuidor=None, isbn=None, autor=None):\n",
    "        self.referencia=referencia\n",
    "        self.tipo=tipo\n",
    "        self.nombre=nombre\n",
    "        self.pvp=pvp\n",
    "        self.descripcion=descripcion\n",
    "        self.productor=productor\n",
    "        self.distribuidor=distribuidor\n",
    "        self.isbn=isbn\n",
    "        self.autor= autor\n",
    "    \n",
    "    \n",
    "adorno = Producto('000A', 'ADORNO','Vaso Adornado', 15, 'Vaso de porcelana con dibujos')"
   ]
  },
  {
   "cell_type": "raw",
   "metadata": {},
   "source": [
    "adorno"
   ]
  },
  {
   "cell_type": "code",
   "execution_count": 9,
   "metadata": {},
   "outputs": [
    {
     "data": {
      "text/plain": [
       "'ADORNO'"
      ]
     },
     "execution_count": 9,
     "metadata": {},
     "output_type": "execute_result"
    }
   ],
   "source": [
    "adorno.tipo\n"
   ]
  },
  {
   "cell_type": "code",
   "execution_count": 12,
   "metadata": {},
   "outputs": [],
   "source": [
    "class Producto:\n",
    "    def __init__(self,referencia,nombre,pvp,descripcion):\n",
    "        self.referencia=referencia\n",
    "        self.nombre=nombre\n",
    "        self.pvp=pvp\n",
    "        self.descripcion=descripcion\n",
    "    def __str__(self):\n",
    "        return \"\"\"\n",
    "        REFERENCIA\\t{}\n",
    "        NOMBRE\\T{}\n",
    "        PVP\\t\n",
    "        DESCRIPCION\\t{}\"\"\".format(self.referencia,self.nombre,self.pvp,self.descripcion)"
   ]
  },
  {
   "cell_type": "code",
   "execution_count": null,
   "metadata": {},
   "outputs": [],
   "source": []
  }
 ],
 "metadata": {
  "kernelspec": {
   "display_name": "Python 3 (ipykernel)",
   "language": "python",
   "name": "python3"
  },
  "language_info": {
   "codemirror_mode": {
    "name": "ipython",
    "version": 3
   },
   "file_extension": ".py",
   "mimetype": "text/x-python",
   "name": "python",
   "nbconvert_exporter": "python",
   "pygments_lexer": "ipython3",
   "version": "3.9.5"
  }
 },
 "nbformat": 4,
 "nbformat_minor": 1
}
