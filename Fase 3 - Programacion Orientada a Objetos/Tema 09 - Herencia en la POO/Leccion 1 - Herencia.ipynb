{
 "cells": [
  {
   "cell_type": "code",
   "execution_count": 8,
   "metadata": {},
   "outputs": [],
   "source": [
    "#\n",
    "#PRODUCTOS:\n",
    "#adornos\n",
    "#alimentos\n",
    "#libros\n",
    "\n",
    "#REFERENCIA:\n",
    "#nombre \n",
    "#precio\n",
    "#descripcion\n",
    "\n",
    "#PRODUCTOR:\n",
    "#distribuidor\n",
    "#SUPER CLASE\n",
    "class Producto:\n",
    "    def __init__(self,referencia,tipo,nombre,pvp,descripcion,productor=None,distribuidor=None, isbn=None, autor=None):\n",
    "        self.referencia=referencia\n",
    "        self.tipo=tipo\n",
    "        self.nombre=nombre\n",
    "        self.pvp=pvp\n",
    "        self.descripcion=descripcion\n",
    "        self.productor=productor\n",
    "        self.distribuidor=distribuidor\n",
    "        self.isbn=isbn\n",
    "        self.autor= autor\n",
    "    \n",
    "    \n",
    "adorno = Producto('000A', 'ADORNO','Vaso Adornado', 15, 'Vaso de porcelana con dibujos')"
   ]
  },
  {
   "cell_type": "raw",
   "metadata": {},
   "source": [
    "adorno"
   ]
  },
  {
   "cell_type": "code",
   "execution_count": 9,
   "metadata": {},
   "outputs": [
    {
     "data": {
      "text/plain": [
       "'ADORNO'"
      ]
     },
     "execution_count": 9,
     "metadata": {},
     "output_type": "execute_result"
    }
   ],
   "source": [
    "adorno.tipo\n"
   ]
  },
  {
   "cell_type": "code",
   "execution_count": 18,
   "metadata": {},
   "outputs": [
    {
     "name": "stdout",
     "output_type": "stream",
     "text": [
      "REFERENCIA\t2034\n",
      "NOMBRE\t\tvaso adornado\n",
      "PVP\t\t15\n",
      "DESCRIPCION\tvaso de porcelana adornado con arboles\n"
     ]
    }
   ],
   "source": [
    "#SUB CLASE\n",
    "class Producto:\n",
    "    def __init__(self,referencia,nombre,pvp,descripcion):\n",
    "        self.referencia=referencia\n",
    "        self.nombre=nombre\n",
    "        self.pvp=pvp\n",
    "        self.descripcion=descripcion\n",
    "    def __str__(self):\n",
    "        return \"\"\"\\\n",
    "REFERENCIA\\t{}\n",
    "NOMBRE\\t\\t{}\n",
    "PVP\\t\\t{}\n",
    "DESCRIPCION\\t{}\"\"\".format(self.referencia,self.nombre,self.pvp,self.descripcion)\n",
    "class Adorno(Producto):\n",
    "    pass\n",
    "a = Adorno(2034,'vaso adornado',15,'vaso de porcelana adornado con arboles')\n",
    "print(a)\n",
    "    "
   ]
  },
  {
   "cell_type": "code",
   "execution_count": 22,
   "metadata": {},
   "outputs": [
    {
     "name": "stdout",
     "output_type": "stream",
     "text": [
      "REFERENCIA\t235\n",
      "NOMBRE\t\tbotella de aceite de olvia extra\n",
      "PVP\t\t5\n",
      "DESCRIPCION\t250 ml\n",
      "PRODUCTOR\tla aceitera\n",
      "DISTRIBUIDOR\tdistribuciones sa\n"
     ]
    }
   ],
   "source": [
    "#SUB CLASE\n",
    "#Para heredar los atributos y métodos de una clase en otra sólo tenemos que pasar\n",
    "#la entre paréntesis durante la definición:\n",
    "class Alimento(Producto):\n",
    "    productor=\"\"\n",
    "    distribuidor=\"\"\n",
    "    \n",
    "    def __str__(self): \n",
    "        return \"\"\"\\\n",
    "REFERENCIA\\t{}\n",
    "NOMBRE\\t\\t{}\n",
    "PVP\\t\\t{}\n",
    "DESCRIPCION\\t{}\n",
    "PRODUCTOR\\t{}\n",
    "DISTRIBUIDOR\\t{}\"\"\".format(self.referencia,self.nombre,self.pvp,self.descripcion,\n",
    "                           self.productor,self.distribuidor)\n",
    "\n",
    "    \n",
    "al = Alimento(235,'botella de aceite de olvia extra',5,'250 ml')\n",
    "al.productor='la aceitera'\n",
    "al.distribuidor='distribuciones sa'\n",
    "print(al)"
   ]
  },
  {
   "cell_type": "code",
   "execution_count": null,
   "metadata": {},
   "outputs": [],
   "source": []
  },
  {
   "cell_type": "code",
   "execution_count": 33,
   "metadata": {},
   "outputs": [],
   "source": []
  },
  {
   "cell_type": "code",
   "execution_count": 32,
   "metadata": {},
   "outputs": [],
   "source": [
    "#para utilizarlas simplemente tendríamos que establecer los atributos después de crear los objetos:\n"
   ]
  },
  {
   "cell_type": "code",
   "execution_count": null,
   "metadata": {},
   "outputs": [],
   "source": []
  },
  {
   "cell_type": "code",
   "execution_count": null,
   "metadata": {},
   "outputs": [],
   "source": []
  },
  {
   "cell_type": "code",
   "execution_count": null,
   "metadata": {},
   "outputs": [],
   "source": []
  }
 ],
 "metadata": {
  "kernelspec": {
   "display_name": "Python 3 (ipykernel)",
   "language": "python",
   "name": "python3"
  },
  "language_info": {
   "codemirror_mode": {
    "name": "ipython",
    "version": 3
   },
   "file_extension": ".py",
   "mimetype": "text/x-python",
   "name": "python",
   "nbconvert_exporter": "python",
   "pygments_lexer": "ipython3",
   "version": "3.9.5"
  }
 },
 "nbformat": 4,
 "nbformat_minor": 1
}
