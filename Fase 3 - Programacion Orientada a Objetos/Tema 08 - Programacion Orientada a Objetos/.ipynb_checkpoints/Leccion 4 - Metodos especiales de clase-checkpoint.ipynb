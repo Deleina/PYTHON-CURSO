{
 "cells": [
  {
   "cell_type": "code",
   "execution_count": 2,
   "metadata": {},
   "outputs": [
    {
     "name": "stdout",
     "output_type": "stream",
     "text": [
      "Requirement already satisfied: jupyterthemes in g:\\miniconda3\\lib\\site-packages (0.20.0)\n",
      "Requirement already satisfied: jupyter-core in g:\\miniconda3\\lib\\site-packages (from jupyterthemes) (4.7.1)\n",
      "Requirement already satisfied: notebook>=5.6.0 in g:\\miniconda3\\lib\\site-packages (from jupyterthemes) (6.4.3)\n",
      "Requirement already satisfied: ipython>=5.4.1 in g:\\miniconda3\\lib\\site-packages (from jupyterthemes) (7.27.0)\n",
      "Requirement already satisfied: lesscpy>=0.11.2 in g:\\miniconda3\\lib\\site-packages (from jupyterthemes) (0.15.0)\n",
      "Requirement already satisfied: matplotlib>=1.4.3 in g:\\miniconda3\\lib\\site-packages (from jupyterthemes) (3.5.0)\n",
      "Requirement already satisfied: backcall in g:\\miniconda3\\lib\\site-packages (from ipython>=5.4.1->jupyterthemes) (0.2.0)\n",
      "Requirement already satisfied: pygments in g:\\miniconda3\\lib\\site-packages (from ipython>=5.4.1->jupyterthemes) (2.10.0)\n",
      "Requirement already satisfied: matplotlib-inline in g:\\miniconda3\\lib\\site-packages (from ipython>=5.4.1->jupyterthemes) (0.1.2)\n",
      "Requirement already satisfied: decorator in g:\\miniconda3\\lib\\site-packages (from ipython>=5.4.1->jupyterthemes) (5.0.9)\n",
      "Requirement already satisfied: prompt-toolkit!=3.0.0,!=3.0.1,<3.1.0,>=2.0.0 in g:\\miniconda3\\lib\\site-packages (from ipython>=5.4.1->jupyterthemes) (3.0.17)\n",
      "Requirement already satisfied: traitlets>=4.2 in g:\\miniconda3\\lib\\site-packages (from ipython>=5.4.1->jupyterthemes) (5.0.5)\n",
      "Requirement already satisfied: colorama in g:\\miniconda3\\lib\\site-packages (from ipython>=5.4.1->jupyterthemes) (0.4.4)\n",
      "Requirement already satisfied: setuptools>=18.5 in g:\\miniconda3\\lib\\site-packages (from ipython>=5.4.1->jupyterthemes) (52.0.0.post20210125)\n",
      "Requirement already satisfied: jedi>=0.16 in g:\\miniconda3\\lib\\site-packages (from ipython>=5.4.1->jupyterthemes) (0.17.2)\n",
      "Requirement already satisfied: pickleshare in g:\\miniconda3\\lib\\site-packages (from ipython>=5.4.1->jupyterthemes) (0.7.5)\n",
      "Requirement already satisfied: parso<0.8.0,>=0.7.0 in g:\\miniconda3\\lib\\site-packages (from jedi>=0.16->ipython>=5.4.1->jupyterthemes) (0.7.0)\n",
      "Requirement already satisfied: ply in g:\\miniconda3\\lib\\site-packages (from lesscpy>=0.11.2->jupyterthemes) (3.11)\n",
      "Requirement already satisfied: six in g:\\miniconda3\\lib\\site-packages (from lesscpy>=0.11.2->jupyterthemes) (1.16.0)\n",
      "Requirement already satisfied: packaging>=20.0 in g:\\miniconda3\\lib\\site-packages (from matplotlib>=1.4.3->jupyterthemes) (21.0)\n",
      "Requirement already satisfied: setuptools-scm>=4 in g:\\miniconda3\\lib\\site-packages (from matplotlib>=1.4.3->jupyterthemes) (6.3.2)\n",
      "Requirement already satisfied: numpy>=1.17 in g:\\miniconda3\\lib\\site-packages (from matplotlib>=1.4.3->jupyterthemes) (1.21.4)\n",
      "Requirement already satisfied: python-dateutil>=2.7 in g:\\miniconda3\\lib\\site-packages (from matplotlib>=1.4.3->jupyterthemes) (2.8.2)\n",
      "Requirement already satisfied: kiwisolver>=1.0.1 in g:\\miniconda3\\lib\\site-packages (from matplotlib>=1.4.3->jupyterthemes) (1.3.2)\n",
      "Requirement already satisfied: fonttools>=4.22.0 in g:\\miniconda3\\lib\\site-packages (from matplotlib>=1.4.3->jupyterthemes) (4.28.1)\n",
      "Requirement already satisfied: cycler>=0.10 in g:\\miniconda3\\lib\\site-packages (from matplotlib>=1.4.3->jupyterthemes) (0.11.0)\n",
      "Requirement already satisfied: pillow>=6.2.0 in g:\\miniconda3\\lib\\site-packages (from matplotlib>=1.4.3->jupyterthemes) (8.4.0)\n",
      "Requirement already satisfied: pyparsing>=2.2.1 in g:\\miniconda3\\lib\\site-packages (from matplotlib>=1.4.3->jupyterthemes) (2.4.7)\n",
      "Requirement already satisfied: ipykernel in g:\\miniconda3\\lib\\site-packages (from notebook>=5.6.0->jupyterthemes) (6.2.0)\n",
      "Requirement already satisfied: prometheus-client in g:\\miniconda3\\lib\\site-packages (from notebook>=5.6.0->jupyterthemes) (0.11.0)\n",
      "Requirement already satisfied: terminado>=0.8.3 in g:\\miniconda3\\lib\\site-packages (from notebook>=5.6.0->jupyterthemes) (0.9.4)\n",
      "Requirement already satisfied: argon2-cffi in g:\\miniconda3\\lib\\site-packages (from notebook>=5.6.0->jupyterthemes) (20.1.0)\n",
      "Requirement already satisfied: ipython-genutils in g:\\miniconda3\\lib\\site-packages (from notebook>=5.6.0->jupyterthemes) (0.2.0)\n",
      "Requirement already satisfied: nbconvert in g:\\miniconda3\\lib\\site-packages (from notebook>=5.6.0->jupyterthemes) (6.1.0)\n",
      "Requirement already satisfied: tornado>=6.1 in g:\\miniconda3\\lib\\site-packages (from notebook>=5.6.0->jupyterthemes) (6.1)\n",
      "Requirement already satisfied: pyzmq>=17 in g:\\miniconda3\\lib\\site-packages (from notebook>=5.6.0->jupyterthemes) (22.2.1)\n",
      "Requirement already satisfied: jinja2 in g:\\miniconda3\\lib\\site-packages (from notebook>=5.6.0->jupyterthemes) (3.0.1)\n",
      "Requirement already satisfied: jupyter-client>=5.3.4 in g:\\miniconda3\\lib\\site-packages (from notebook>=5.6.0->jupyterthemes) (7.0.1)\n",
      "Requirement already satisfied: nbformat in g:\\miniconda3\\lib\\site-packages (from notebook>=5.6.0->jupyterthemes) (5.1.3)\n",
      "Requirement already satisfied: Send2Trash>=1.5.0 in g:\\miniconda3\\lib\\site-packages (from notebook>=5.6.0->jupyterthemes) (1.8.0)\n",
      "Requirement already satisfied: entrypoints in g:\\miniconda3\\lib\\site-packages (from jupyter-client>=5.3.4->notebook>=5.6.0->jupyterthemes) (0.3)\n",
      "Requirement already satisfied: nest-asyncio>=1.5 in g:\\miniconda3\\lib\\site-packages (from jupyter-client>=5.3.4->notebook>=5.6.0->jupyterthemes) (1.5.1)\n",
      "Requirement already satisfied: pywin32>=1.0 in g:\\miniconda3\\lib\\site-packages (from jupyter-core->jupyterthemes) (228)\n",
      "Requirement already satisfied: wcwidth in g:\\miniconda3\\lib\\site-packages (from prompt-toolkit!=3.0.0,!=3.0.1,<3.1.0,>=2.0.0->ipython>=5.4.1->jupyterthemes) (0.2.5)\n",
      "Requirement already satisfied: tomli>=1.0.0 in g:\\miniconda3\\lib\\site-packages (from setuptools-scm>=4->matplotlib>=1.4.3->jupyterthemes) (1.2.2)\n",
      "Requirement already satisfied: pywinpty>=0.5 in g:\\miniconda3\\lib\\site-packages (from terminado>=0.8.3->notebook>=5.6.0->jupyterthemes) (0.5.7)\n",
      "Requirement already satisfied: cffi>=1.0.0 in g:\\miniconda3\\lib\\site-packages (from argon2-cffi->notebook>=5.6.0->jupyterthemes) (1.14.6)\n",
      "Requirement already satisfied: pycparser in g:\\miniconda3\\lib\\site-packages (from cffi>=1.0.0->argon2-cffi->notebook>=5.6.0->jupyterthemes) (2.20)\n",
      "Requirement already satisfied: debugpy<2.0,>=1.0.0 in g:\\miniconda3\\lib\\site-packages (from ipykernel->notebook>=5.6.0->jupyterthemes) (1.4.1)\n",
      "Requirement already satisfied: MarkupSafe>=2.0 in g:\\miniconda3\\lib\\site-packages (from jinja2->notebook>=5.6.0->jupyterthemes) (2.0.1)\n",
      "Requirement already satisfied: bleach in g:\\miniconda3\\lib\\site-packages (from nbconvert->notebook>=5.6.0->jupyterthemes) (4.0.0)\n",
      "Requirement already satisfied: nbclient<0.6.0,>=0.5.0 in g:\\miniconda3\\lib\\site-packages (from nbconvert->notebook>=5.6.0->jupyterthemes) (0.5.3)\n",
      "Requirement already satisfied: jupyterlab-pygments in g:\\miniconda3\\lib\\site-packages (from nbconvert->notebook>=5.6.0->jupyterthemes) (0.1.2)\n",
      "Requirement already satisfied: pandocfilters>=1.4.1 in g:\\miniconda3\\lib\\site-packages (from nbconvert->notebook>=5.6.0->jupyterthemes) (1.4.3)\n",
      "Requirement already satisfied: testpath in g:\\miniconda3\\lib\\site-packages (from nbconvert->notebook>=5.6.0->jupyterthemes) (0.5.0)\n",
      "Requirement already satisfied: mistune<2,>=0.8.1 in g:\\miniconda3\\lib\\site-packages (from nbconvert->notebook>=5.6.0->jupyterthemes) (0.8.4)\n",
      "Requirement already satisfied: defusedxml in g:\\miniconda3\\lib\\site-packages (from nbconvert->notebook>=5.6.0->jupyterthemes) (0.7.1)\n",
      "Requirement already satisfied: async-generator in g:\\miniconda3\\lib\\site-packages (from nbclient<0.6.0,>=0.5.0->nbconvert->notebook>=5.6.0->jupyterthemes) (1.10)\n",
      "Requirement already satisfied: jsonschema!=2.5.0,>=2.4 in g:\\miniconda3\\lib\\site-packages (from nbformat->notebook>=5.6.0->jupyterthemes) (3.2.0)\n",
      "Requirement already satisfied: pyrsistent>=0.14.0 in g:\\miniconda3\\lib\\site-packages (from jsonschema!=2.5.0,>=2.4->nbformat->notebook>=5.6.0->jupyterthemes) (0.18.0)\n",
      "Requirement already satisfied: attrs>=17.4.0 in g:\\miniconda3\\lib\\site-packages (from jsonschema!=2.5.0,>=2.4->nbformat->notebook>=5.6.0->jupyterthemes) (21.2.0)\n",
      "Requirement already satisfied: webencodings in g:\\miniconda3\\lib\\site-packages (from bleach->nbconvert->notebook>=5.6.0->jupyterthemes) (0.5.1)\n"
     ]
    }
   ],
   "source": [
    "!pip install jupyterthemes"
   ]
  },
  {
   "cell_type": "code",
   "execution_count": null,
   "metadata": {},
   "outputs": [],
   "source": []
  }
 ],
 "metadata": {
  "kernelspec": {
   "display_name": "Python 3 (ipykernel)",
   "language": "python",
   "name": "python3"
  },
  "language_info": {
   "codemirror_mode": {
    "name": "ipython",
    "version": 3
   },
   "file_extension": ".py",
   "mimetype": "text/x-python",
   "name": "python",
   "nbconvert_exporter": "python",
   "pygments_lexer": "ipython3",
   "version": "3.9.5"
  }
 },
 "nbformat": 4,
 "nbformat_minor": 1
}
