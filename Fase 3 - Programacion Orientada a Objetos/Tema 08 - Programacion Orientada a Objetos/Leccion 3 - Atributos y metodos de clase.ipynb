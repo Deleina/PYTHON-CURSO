{
 "cells": [
  {
   "cell_type": "code",
   "execution_count": 1,
   "metadata": {},
   "outputs": [],
   "source": [
    "#el valor de los atributos es lo que diferencia a cada una de las galletas y las hace \n",
    "#unicas y especial.\n",
    "#en la POO es que los objetos tambien pueden tener sus propios atributos, una especie \n",
    "#de variables internas a las que se puede referir con un punto(.) y el nombre del atributo\n",
    "class Galleta:\n",
    "    pass\n",
    "\n",
    "una_galleta=Galleta()"
   ]
  },
  {
   "cell_type": "code",
   "execution_count": 2,
   "metadata": {},
   "outputs": [],
   "source": [
    "una_galleta.sabor='salado'"
   ]
  },
  {
   "cell_type": "code",
   "execution_count": 3,
   "metadata": {},
   "outputs": [],
   "source": [
    "una_galleta.color='marron'"
   ]
  },
  {
   "cell_type": "code",
   "execution_count": 8,
   "metadata": {},
   "outputs": [
    {
     "name": "stdout",
     "output_type": "stream",
     "text": [
      "el sabor de esta galleta es salado\n"
     ]
    }
   ],
   "source": [
    "print('el sabor de esta galleta es',una_galleta.sabor) #definiendo fuera de la clase"
   ]
  },
  {
   "cell_type": "code",
   "execution_count": 10,
   "metadata": {},
   "outputs": [
    {
     "data": {
      "text/plain": [
       "False"
      ]
     },
     "execution_count": 10,
     "metadata": {},
     "output_type": "execute_result"
    }
   ],
   "source": [
    "class Galleta:\n",
    "    chocolate = False\n",
    "    \n",
    "g=Galleta()\n",
    "g.chocolate"
   ]
  },
  {
   "cell_type": "code",
   "execution_count": 11,
   "metadata": {},
   "outputs": [
    {
     "data": {
      "text/plain": [
       "True"
      ]
     },
     "execution_count": 11,
     "metadata": {},
     "output_type": "execute_result"
    }
   ],
   "source": [
    "g.chocolate=True\n",
    "g.chocolate"
   ]
  },
  {
   "cell_type": "code",
   "execution_count": 1,
   "metadata": {},
   "outputs": [
    {
     "name": "stdout",
     "output_type": "stream",
     "text": [
      "se acaba de crear una galleta\n"
     ]
    }
   ],
   "source": [
    "# el metodo init permite enviar argumentos durante la instanciasion,\n",
    "# un metodo es la palabra que indica una funcion dentro de una clase \n",
    "# self: hace rferencia al propio objeto, todos lo metodos llevan la palabra self \n",
    "#sirve para  diferenciar entre una clase y un metodo\n",
    "#el metodo es la palabra que indica \"una funcion dentro de una clase\"\n",
    "class Galleta():\n",
    "    chocolate=False\n",
    "    def __init__(self): #metodo especial que se ejecuta al crear un objeto\n",
    "        print('se acaba de crear una galleta')\n",
    "g=Galleta()"
   ]
  },
  {
   "cell_type": "code",
   "execution_count": 21,
   "metadata": {},
   "outputs": [
    {
     "name": "stdout",
     "output_type": "stream",
     "text": [
      "se acaba de crar una galleta\n",
      "soy una galleta sin chocolate :-(\n",
      "soy una galleta chocolateada :-D\n"
     ]
    }
   ],
   "source": [
    "class Galleta():\n",
    "    chocolate=False #variable interna, atributo de una clase\n",
    "    def __init__(self):\n",
    "        print('se acaba de crar una galleta')\n",
    "    def chocolatear(self): # creando funcion interna\n",
    "        self.chocolate=True\n",
    "    def tiene_chocolate(self):\n",
    "        if(self.chocolate):\n",
    "            print('soy una galleta chocolateada :-D')\n",
    "        else:\n",
    "            print('soy una galleta sin chocolate :-(')\n",
    "\n",
    "g=Galleta()\n",
    "g.tiene_chocolate() \n",
    "g.chocolatear()\n",
    "g.tiene_chocolate()"
   ]
  },
  {
   "cell_type": "code",
   "execution_count": 12,
   "metadata": {},
   "outputs": [],
   "source": [
    "class Galleta():\n",
    "    chocolate=False #variable interna, atributo de una clase\n",
    "    def __init__(self, sabor, color):\n",
    "        self.sabor =  sabor\n",
    "        self.color = color\n",
    "        print('se acaba de crar una galleta {} y {}'.format(sabor,color))\n",
    "    def chocolatear(self): # creando funcion interna\n",
    "        self.chocolate=True\n",
    "    def tiene_chocolate(self):\n",
    "        if(self.chocolate):\n",
    "            print('soy una galleta chocolateada :-D')\n",
    "        else:\n",
    "            print('soy una galleta sin chocolate :-(')\n",
    "\n"
   ]
  },
  {
   "cell_type": "code",
   "execution_count": 13,
   "metadata": {},
   "outputs": [
    {
     "name": "stdout",
     "output_type": "stream",
     "text": [
      "se acaba de crar una galleta salada y marron\n"
     ]
    }
   ],
   "source": [
    "g= Galleta('salada','marron')"
   ]
  },
  {
   "cell_type": "code",
   "execution_count": 18,
   "metadata": {},
   "outputs": [
    {
     "name": "stdout",
     "output_type": "stream",
     "text": [
      "el lapiz esta dibujando\n",
      "el lapiz esta borrando\n"
     ]
    }
   ],
   "source": [
    "class Lapiz:\n",
    "    color = 'amarillo' #atributos\n",
    "    contiene_borrador = False \n",
    "    usa_grafico = True\n",
    "    \n",
    "    #metodos, es una funcion dentro de una clase\n",
    "    def dibujar(self):\n",
    "            print('el lapiz esta dibujando')\n",
    "    def borrar(self):\n",
    "        if self.es_valido_para_borrar():\n",
    "            print('el lapiz esta borrando')\n",
    "        else:\n",
    "            print('no es posible borrar')   \n",
    "    def es_valido_para_borrar(self):\n",
    "        return self.contiene_borrador \n",
    "    \n",
    "    \n",
    "lapiz_generico = Lapiz()\n",
    "lapiz_generico.dibujar()\n",
    "lapiz_generico.contiene_borrador = True\n",
    "lapiz_generico.borrar()"
   ]
  },
  {
   "cell_type": "code",
   "execution_count": null,
   "metadata": {},
   "outputs": [],
   "source": []
  }
 ],
 "metadata": {
  "kernelspec": {
   "display_name": "Python 3 (ipykernel)",
   "language": "python",
   "name": "python3"
  },
  "language_info": {
   "codemirror_mode": {
    "name": "ipython",
    "version": 3
   },
   "file_extension": ".py",
   "mimetype": "text/x-python",
   "name": "python",
   "nbconvert_exporter": "python",
   "pygments_lexer": "ipython3",
   "version": "3.9.5"
  }
 },
 "nbformat": 4,
 "nbformat_minor": 1
}
