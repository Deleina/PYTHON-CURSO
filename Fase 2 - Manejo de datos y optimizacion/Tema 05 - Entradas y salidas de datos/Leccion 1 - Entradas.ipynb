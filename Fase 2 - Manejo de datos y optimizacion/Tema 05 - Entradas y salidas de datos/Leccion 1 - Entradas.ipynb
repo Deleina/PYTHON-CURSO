{
 "cells": [
  {
   "cell_type": "code",
   "execution_count": 1,
   "metadata": {},
   "outputs": [
    {
     "name": "stdout",
     "output_type": "stream",
     "text": [
      "introduce un numero decimal con punto:3.14\n"
     ]
    }
   ],
   "source": [
    "decimal = float(input('introduce un numero decimal con punto:'))\n"
   ]
  },
  {
   "cell_type": "code",
   "execution_count": 2,
   "metadata": {},
   "outputs": [
    {
     "name": "stdout",
     "output_type": "stream",
     "text": [
      "introduce tres valores\n",
      "introduce un valor: 10\n",
      "introduce un valor: 62316\n",
      "introduce un valor: hb90\n"
     ]
    }
   ],
   "source": [
    "valores = []\n",
    "print('introduce tres valores')\n",
    "for x in range(3):\n",
    "    valores.append(input('introduce un valor: '))"
   ]
  },
  {
   "cell_type": "code",
   "execution_count": 3,
   "metadata": {},
   "outputs": [
    {
     "data": {
      "text/plain": [
       "['10', '62316', 'hb90']"
      ]
     },
     "execution_count": 3,
     "metadata": {},
     "output_type": "execute_result"
    }
   ],
   "source": [
    "valores"
   ]
  },
  {
   "cell_type": "code",
   "execution_count": null,
   "metadata": {},
   "outputs": [],
   "source": []
  }
 ],
 "metadata": {
  "kernelspec": {
   "display_name": "Python 3 (ipykernel)",
   "language": "python",
   "name": "python3"
  },
  "language_info": {
   "codemirror_mode": {
    "name": "ipython",
    "version": 3
   },
   "file_extension": ".py",
   "mimetype": "text/x-python",
   "name": "python",
   "nbconvert_exporter": "python",
   "pygments_lexer": "ipython3",
   "version": "3.9.5"
  }
 },
 "nbformat": 4,
 "nbformat_minor": 1
}
