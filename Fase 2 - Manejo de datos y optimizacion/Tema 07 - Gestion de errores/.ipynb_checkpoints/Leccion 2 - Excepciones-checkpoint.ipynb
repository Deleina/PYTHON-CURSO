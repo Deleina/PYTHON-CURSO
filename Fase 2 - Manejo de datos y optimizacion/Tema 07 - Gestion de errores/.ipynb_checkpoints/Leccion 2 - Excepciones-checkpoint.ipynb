{
 "cells": [
  {
   "cell_type": "code",
   "execution_count": 1,
   "metadata": {},
   "outputs": [
    {
     "name": "stdout",
     "output_type": "stream",
     "text": [
      "introduce un numeroddd\n"
     ]
    },
    {
     "ename": "ValueError",
     "evalue": "could not convert string to float: 'ddd'",
     "output_type": "error",
     "traceback": [
      "\u001b[1;31m---------------------------------------------------------------------------\u001b[0m",
      "\u001b[1;31mValueError\u001b[0m                                Traceback (most recent call last)",
      "\u001b[1;32mC:\\Users\\MAUROJ~1\\AppData\\Local\\Temp/ipykernel_12412/625575782.py\u001b[0m in \u001b[0;36m<module>\u001b[1;34m\u001b[0m\n\u001b[1;32m----> 1\u001b[1;33m \u001b[0mn\u001b[0m \u001b[1;33m=\u001b[0m \u001b[0mfloat\u001b[0m\u001b[1;33m(\u001b[0m\u001b[0minput\u001b[0m\u001b[1;33m(\u001b[0m\u001b[1;34m'introduce un numero'\u001b[0m\u001b[1;33m)\u001b[0m\u001b[1;33m)\u001b[0m\u001b[1;33m\u001b[0m\u001b[1;33m\u001b[0m\u001b[0m\n\u001b[0m\u001b[0;32m      2\u001b[0m \u001b[0mm\u001b[0m\u001b[1;33m=\u001b[0m\u001b[1;36m4\u001b[0m\u001b[1;33m\u001b[0m\u001b[1;33m\u001b[0m\u001b[0m\n\u001b[0;32m      3\u001b[0m \u001b[0mprint\u001b[0m\u001b[1;33m(\u001b[0m\u001b[1;34m\"{}/{}={}\"\u001b[0m\u001b[1;33m.\u001b[0m\u001b[0mformat\u001b[0m\u001b[1;33m(\u001b[0m\u001b[0mn\u001b[0m\u001b[1;33m,\u001b[0m\u001b[0mm\u001b[0m\u001b[1;33m,\u001b[0m\u001b[0mn\u001b[0m\u001b[1;33m/\u001b[0m\u001b[0mm\u001b[0m\u001b[1;33m)\u001b[0m\u001b[1;33m)\u001b[0m\u001b[1;33m\u001b[0m\u001b[1;33m\u001b[0m\u001b[0m\n",
      "\u001b[1;31mValueError\u001b[0m: could not convert string to float: 'ddd'"
     ]
    }
   ],
   "source": [
    "n = float(input('introduce un numero'))\n",
    "m=4\n",
    "print(\"{}/{}={}\".format(n,m,n/m))\n"
   ]
  },
  {
   "cell_type": "code",
   "execution_count": 2,
   "metadata": {},
   "outputs": [
    {
     "name": "stdout",
     "output_type": "stream",
     "text": [
      "introduce un numeroaaa\n",
      "ha ocurrido un error, introduce un numero\n"
     ]
    }
   ],
   "source": [
    "try:\n",
    "    n = float(input('introduce un numero'))\n",
    "    m=4\n",
    "    print(\"{}/{}={}\".format(n,m,n/m))\n",
    "except:\n",
    "    print('ha ocurrido un error, introduce un numero')"
   ]
  },
  {
   "cell_type": "code",
   "execution_count": 4,
   "metadata": {},
   "outputs": [
    {
     "name": "stdout",
     "output_type": "stream",
     "text": [
      "introduce un numeroññ\n",
      "ha ocurrido un error, introduce un numero\n",
      "introduce un numero5\n",
      "5.0 / 4 = 1.25\n"
     ]
    }
   ],
   "source": [
    "while(True):\n",
    "    try:\n",
    "        n = float(input('introduce un numero'))\n",
    "        m=4\n",
    "        print(\"{} / {} = {}\".format(n,m,n/m))\n",
    "        break # importante romper la iteracion si todo a salido bien\n",
    "    except:\n",
    "        print('ha ocurrido un error, introduce un numero')"
   ]
  },
  {
   "cell_type": "code",
   "execution_count": 6,
   "metadata": {},
   "outputs": [
    {
     "name": "stdout",
     "output_type": "stream",
     "text": [
      "introduce un numero5\n",
      "5.0 / 4 = 1.25\n",
      "todo ha funcionado correctamente :)\n"
     ]
    }
   ],
   "source": [
    "while(True):\n",
    "    try:\n",
    "        n = float(input('introduce un numero: '))\n",
    "        m=4\n",
    "        print(\"{} / {} = {}\".format(n,m,n/m))\n",
    "    except:\n",
    "        print('ha ocurrido un error, introduce un numero')\n",
    "    else:\n",
    "        print('todo ha funcionado correctamente :)')\n",
    "        break # importante romper la iteracion si todo a salido bien"
   ]
  },
  {
   "cell_type": "code",
   "execution_count": 7,
   "metadata": {},
   "outputs": [
    {
     "name": "stdout",
     "output_type": "stream",
     "text": [
      "introduce un numero: dd\n",
      "ha ocurrido un error, introduce un numero\n",
      "fin de la iteracion\n",
      "introduce un numero: 10\n",
      "10.0 / 4 = 2.5\n",
      "todo ha funcionado correctamente :)\n",
      "fin de la iteracion\n"
     ]
    }
   ],
   "source": [
    "while(True):\n",
    "    try: # try para capturar cualquier error dentro de un bloque de instrucciones\n",
    "        n = float(input('introduce un numero: ')) \n",
    "        m=4\n",
    "        print(\"{} / {} = {}\".format(n,m,n/m))\n",
    "    except: #para definicir un codigo de manera singular\n",
    "        print('ha ocurrido un error, introduce un numero')\n",
    "    else: # para definir el codigom que se ejecuatara si no ocurre ningun error\n",
    "        print('todo ha funcionado correctamente :)')\n",
    "        break # importante romper la iteracion si todo a salido bien\n",
    "    finally: # para definicir el codigo que se ejcutara aya o no un error\n",
    "        print('fin de la iteracion')"
   ]
  },
  {
   "cell_type": "code",
   "execution_count": null,
   "metadata": {},
   "outputs": [],
   "source": []
  }
 ],
 "metadata": {
  "kernelspec": {
   "display_name": "Python 3 (ipykernel)",
   "language": "python",
   "name": "python3"
  },
  "language_info": {
   "codemirror_mode": {
    "name": "ipython",
    "version": 3
   },
   "file_extension": ".py",
   "mimetype": "text/x-python",
   "name": "python",
   "nbconvert_exporter": "python",
   "pygments_lexer": "ipython3",
   "version": "3.9.5"
  }
 },
 "nbformat": 4,
 "nbformat_minor": 1
}
