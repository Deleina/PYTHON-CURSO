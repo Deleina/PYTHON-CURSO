{
 "cells": [
  {
   "cell_type": "code",
   "execution_count": 5,
   "metadata": {},
   "outputs": [
    {
     "name": "stdout",
     "output_type": "stream",
     "text": [
      "4\n",
      "3\n",
      "2\n",
      "1\n",
      "booooom!\n",
      "fin de la funcion 0\n",
      "fin de la funcion 1\n",
      "fin de la funcion 2\n",
      "fin de la funcion 3\n",
      "fin de la funcion 4\n"
     ]
    }
   ],
   "source": [
    "#\n",
    "def cuenta_atras(numero):\n",
    "    numero-=1\n",
    "    if numero>0:\n",
    "        print(numero)\n",
    "        cuenta_atras(numero)\n",
    "    else:\n",
    "        print('booooom!')\n",
    "    print('fin de la funcion', numero)\n",
    "\n",
    "cuenta_atras(5)"
   ]
  },
  {
   "cell_type": "code",
   "execution_count": 7,
   "metadata": {},
   "outputs": [
    {
     "name": "stdout",
     "output_type": "stream",
     "text": [
      "valor incial=> 5\n",
      "valor incial=> 4\n",
      "valor incial=> 3\n",
      "valor incial=> 2\n",
      "valor incial=> 1\n",
      "valor final ==> 1\n",
      "valor final ==> 3\n",
      "valor final ==> 6\n",
      "valor final ==> 10\n",
      "valor final ==> 15\n"
     ]
    },
    {
     "data": {
      "text/plain": [
       "15"
      ]
     },
     "execution_count": 7,
     "metadata": {},
     "output_type": "execute_result"
    }
   ],
   "source": [
    "def factorial(num):\n",
    "    print('valor incial=>', num)\n",
    "    if num >1:\n",
    "        num=num+factorial(num-1)\n",
    "    print('valor final ==>', num)\n",
    "    return num\n",
    "factorial(5)\n",
    "    "
   ]
  },
  {
   "cell_type": "code",
   "execution_count": 9,
   "metadata": {},
   "outputs": [],
   "source": [
    "def cuenta_atras(numero):\n",
    "    numero-=1\n",
    "    if numero>0:\n",
    "        print(numero)\n",
    "        cuenta_atras(numero)\n",
    "    else:\n",
    "        print('hola')"
   ]
  },
  {
   "cell_type": "code",
   "execution_count": 10,
   "metadata": {},
   "outputs": [
    {
     "name": "stdout",
     "output_type": "stream",
     "text": [
      "9\n",
      "8\n",
      "7\n",
      "6\n",
      "5\n",
      "4\n",
      "3\n",
      "2\n",
      "1\n"
     ]
    }
   ],
   "source": [
    "cuenta_atras(10)"
   ]
  },
  {
   "cell_type": "code",
   "execution_count": 15,
   "metadata": {},
   "outputs": [
    {
     "name": "stdout",
     "output_type": "stream",
     "text": [
      "6\n"
     ]
    }
   ],
   "source": [
    "#ejercicios de funciones recursivas \n",
    "#sumamos un numero sin utlizar un bluce, sumamos todos los mumeros, \n",
    "#utlizando un 'numero' hasta el 1 que devuelva siempre un numero entero\n",
    "#1\n",
    "def sumatorio(numero):\n",
    "    if numero ==1:\n",
    "        return 1\n",
    "    else:\n",
    "        return numero+sumatorio(numero-1)\n",
    "print(sumatorio(3))"
   ]
  },
  {
   "cell_type": "code",
   "execution_count": null,
   "metadata": {},
   "outputs": [],
   "source": [
    "#2"
   ]
  },
  {
   "cell_type": "code",
   "execution_count": null,
   "metadata": {},
   "outputs": [],
   "source": [
    "# A partir de un número\n",
    "def sumatorio(numero):\n",
    "    # Si el número es mayor que 0\n",
    "    if numero > 0:\n",
    "        # Sumamos el resultado devuelto por la propia llamada pasando el número menos 1\n",
    "        numero += sumatorio(numero-1)\n",
    "    # Finalmente devolvemos el numero\n",
    "    return numero"
   ]
  }
 ],
 "metadata": {
  "kernelspec": {
   "display_name": "Python 3 (ipykernel)",
   "language": "python",
   "name": "python3"
  },
  "language_info": {
   "codemirror_mode": {
    "name": "ipython",
    "version": 3
   },
   "file_extension": ".py",
   "mimetype": "text/x-python",
   "name": "python",
   "nbconvert_exporter": "python",
   "pygments_lexer": "ipython3",
   "version": "3.9.5"
  }
 },
 "nbformat": 4,
 "nbformat_minor": 1
}
